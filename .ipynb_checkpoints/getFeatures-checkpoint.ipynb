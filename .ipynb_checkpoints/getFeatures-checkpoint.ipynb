{
 "cells": [
  {
   "cell_type": "code",
   "execution_count": 1,
   "metadata": {},
   "outputs": [],
   "source": [
    "from music21 import *"
   ]
  },
  {
   "cell_type": "code",
   "execution_count": 2,
   "metadata": {},
   "outputs": [],
   "source": [
    "import numpy as np\n",
    "import pandas as pd\n",
    "import os"
   ]
  },
  {
   "cell_type": "code",
   "execution_count": 3,
   "metadata": {},
   "outputs": [],
   "source": [
    "environment.set('autoDownload','allow')\n",
    "environment.set(\"musescoreDirectPNGPath\", \"C:/Program Files/MuseScore 3/bin/MuseScore3.exe\")\n",
    "environment.set(\"musicxmlPath\", \"C:/Program Files/MuseScore 3/bin/MuseScore3.exe\")"
   ]
  },
  {
   "cell_type": "markdown",
   "metadata": {},
   "source": [
    "Read in one score to test the process"
   ]
  },
  {
   "cell_type": "code",
   "execution_count": 6,
   "metadata": {},
   "outputs": [],
   "source": [
    "filepath='data/classical/chopin/prelude/'"
   ]
  },
  {
   "cell_type": "code",
   "execution_count": 7,
   "metadata": {},
   "outputs": [],
   "source": [
    "s=converter.parse(filepath+'prelude28-01.krn')"
   ]
  },
  {
   "cell_type": "code",
   "execution_count": 37,
   "metadata": {},
   "outputs": [
    {
     "data": {
      "text/plain": [
       "[0]"
      ]
     },
     "execution_count": 37,
     "metadata": {},
     "output_type": "execute_result"
    }
   ],
   "source": [
    "features.jSymbolic.OverallDynamicRangeFeature(s).extract().vector"
   ]
  },
  {
   "cell_type": "code",
   "execution_count": 19,
   "metadata": {},
   "outputs": [
    {
     "data": {
      "text/plain": [
       "[0.11453488370930233]"
      ]
     },
     "execution_count": 19,
     "metadata": {},
     "output_type": "execute_result"
    }
   ],
   "source": [
    "#average time between attacks in seconds between Note On events regardless of channel\n",
    "fe = features.jSymbolic.AverageTimeBetweenAttacksFeature(s)\n",
    "f = fe.extract()\n",
    "f.vector"
   ]
  },
  {
   "cell_type": "code",
   "execution_count": 23,
   "metadata": {},
   "outputs": [
    {
     "data": {
      "text/plain": [
       "[80.0]"
      ]
     },
     "execution_count": 23,
     "metadata": {},
     "output_type": "execute_result"
    }
   ],
   "source": [
    "#initial tempo\n",
    "fe = features.jSymbolic.InitialTempoFeature(s)\n",
    "f = fe.extract()\n",
    "f.vector  "
   ]
  },
  {
   "cell_type": "code",
   "execution_count": 24,
   "metadata": {},
   "outputs": [
    {
     "data": {
      "text/plain": [
       "[15.595959597534945]"
      ]
     },
     "execution_count": 24,
     "metadata": {},
     "output_type": "execute_result"
    }
   ],
   "source": [
    "#note density (average number of notes per second, taking local tempo into account)\n",
    "fe = features.jSymbolic.NoteDensityFeature(s)\n",
    "f = fe.extract()\n",
    "f.vector"
   ]
  },
  {
   "cell_type": "code",
   "execution_count": 26,
   "metadata": {},
   "outputs": [
    {
     "data": {
      "text/plain": [
       "[55]"
      ]
     },
     "execution_count": 26,
     "metadata": {},
     "output_type": "execute_result"
    }
   ],
   "source": [
    "#range (semitones) between highest and lowest pitch\n",
    "fe = features.jSymbolic.RangeFeature(s)\n",
    "fe.extract().vector"
   ]
  },
  {
   "cell_type": "code",
   "execution_count": 126,
   "metadata": {},
   "outputs": [
    {
     "data": {
      "text/plain": [
       "[0.0]"
      ]
     },
     "execution_count": 126,
     "metadata": {},
     "output_type": "execute_result"
    }
   ],
   "source": [
    "#woodwinds fraction\n",
    "#fe = features.jSymbolic.WoodwindsFractionFeature(s)\n",
    "#fe.extract().vector\n",
    "features.jSymbolic.WoodwindsFractionFeature(s).extract().vector"
   ]
  },
  {
   "cell_type": "code",
   "execution_count": 123,
   "metadata": {},
   "outputs": [
    {
     "data": {
      "text/plain": [
       "0.0"
      ]
     },
     "execution_count": 123,
     "metadata": {},
     "output_type": "execute_result"
    }
   ],
   "source": [
    "#strings fraction\n",
    "#fe = features.jSymbolic.OrchestralStringsFractionFeature(s)\n",
    "#fe.extract().vector\n",
    "features.jSymbolic.OrchestralStringsFractionFeature(s).extract().vector[0]"
   ]
  },
  {
   "cell_type": "code",
   "execution_count": 124,
   "metadata": {},
   "outputs": [
    {
     "data": {
      "text/plain": [
       "0"
      ]
     },
     "execution_count": 124,
     "metadata": {},
     "output_type": "execute_result"
    }
   ],
   "source": [
    "#percussion prevalence (proportion of Note Ons that are unpitched percussion)\n",
    "#fe = features.jSymbolic.PercussionPrevalenceFeature(s)\n",
    "#fe.extract().vector\n",
    "features.jSymbolic.PercussionPrevalenceFeature(s).extract().vector[0]"
   ]
  },
  {
   "cell_type": "code",
   "execution_count": 125,
   "metadata": {},
   "outputs": [
    {
     "data": {
      "text/plain": [
       "1.0"
      ]
     },
     "execution_count": 125,
     "metadata": {},
     "output_type": "execute_result"
    }
   ],
   "source": [
    "#string keyboard prevalence (proportion of Note Ons that are unpitched percussion)\n",
    "#fe = features.jSymbolic.StringKeyboardFractionFeature(s)\n",
    "#fe.extract().vector[0]\n",
    "features.jSymbolic.StringKeyboardFractionFeature(s).extract().vector[0]"
   ]
  },
  {
   "cell_type": "code",
   "execution_count": 132,
   "metadata": {},
   "outputs": [
    {
     "data": {
      "text/plain": [
       "'Piano Sonata no. 28 in A major'"
      ]
     },
     "execution_count": 132,
     "metadata": {},
     "output_type": "execute_result"
    }
   ],
   "source": [
    "s.metadata.title"
   ]
  },
  {
   "cell_type": "code",
   "execution_count": 133,
   "metadata": {},
   "outputs": [
    {
     "data": {
      "text/plain": [
       "'Beethoven, Ludwig van'"
      ]
     },
     "execution_count": 133,
     "metadata": {},
     "output_type": "execute_result"
    }
   ],
   "source": [
    "s.metadata.composer"
   ]
  },
  {
   "cell_type": "code",
   "execution_count": 8,
   "metadata": {},
   "outputs": [
    {
     "data": {
      "text/plain": [
       "'None'"
      ]
     },
     "execution_count": 8,
     "metadata": {},
     "output_type": "execute_result"
    }
   ],
   "source": [
    "s.metadata.date"
   ]
  },
  {
   "cell_type": "markdown",
   "metadata": {},
   "source": [
    "Read in csv containing list of works (path, krn file name, and spotify ID)"
   ]
  },
  {
   "cell_type": "code",
   "execution_count": 4,
   "metadata": {},
   "outputs": [],
   "source": [
    "workList = pd.read_excel(\"workList.xlsx\")"
   ]
  },
  {
   "cell_type": "code",
   "execution_count": 5,
   "metadata": {},
   "outputs": [
    {
     "data": {
      "text/html": [
       "<div>\n",
       "<style scoped>\n",
       "    .dataframe tbody tr th:only-of-type {\n",
       "        vertical-align: middle;\n",
       "    }\n",
       "\n",
       "    .dataframe tbody tr th {\n",
       "        vertical-align: top;\n",
       "    }\n",
       "\n",
       "    .dataframe thead th {\n",
       "        text-align: right;\n",
       "    }\n",
       "</style>\n",
       "<table border=\"1\" class=\"dataframe\">\n",
       "  <thead>\n",
       "    <tr style=\"text-align: right;\">\n",
       "      <th></th>\n",
       "      <th>include</th>\n",
       "      <th>folder</th>\n",
       "      <th>file</th>\n",
       "      <th>spotifyID</th>\n",
       "    </tr>\n",
       "  </thead>\n",
       "  <tbody>\n",
       "    <tr>\n",
       "      <td>0</td>\n",
       "      <td>1</td>\n",
       "      <td>adam</td>\n",
       "      <td>fimaris.krn</td>\n",
       "      <td>0XKQIVQ97pPTJg2uDEivD4</td>\n",
       "    </tr>\n",
       "    <tr>\n",
       "      <td>1</td>\n",
       "      <td>0</td>\n",
       "      <td>alkan/op38</td>\n",
       "      <td>02-fa.krn</td>\n",
       "      <td>3jS5RqvjbgnThgzu9iqDD8</td>\n",
       "    </tr>\n",
       "    <tr>\n",
       "      <td>2</td>\n",
       "      <td>1</td>\n",
       "      <td>bach/violin</td>\n",
       "      <td>partita2-1.krn</td>\n",
       "      <td>2shAgoNd95hE6pAjAxxor7</td>\n",
       "    </tr>\n",
       "    <tr>\n",
       "      <td>3</td>\n",
       "      <td>0</td>\n",
       "      <td>bachcpe/vol01</td>\n",
       "      <td>Wq117-37.krn</td>\n",
       "      <td>0LSMmwJL5Nym0L7Vxt2FeH</td>\n",
       "    </tr>\n",
       "    <tr>\n",
       "      <td>4</td>\n",
       "      <td>1</td>\n",
       "      <td>beethoven/piano/sonata</td>\n",
       "      <td>sonata08-2.krn</td>\n",
       "      <td>4l5zWNPyET6PqBhxQEyKgt</td>\n",
       "    </tr>\n",
       "    <tr>\n",
       "      <td>5</td>\n",
       "      <td>1</td>\n",
       "      <td>bononcini</td>\n",
       "      <td>perlagloria.krn</td>\n",
       "      <td>2PhaOWw5VeChQCJcDBXpfD</td>\n",
       "    </tr>\n",
       "    <tr>\n",
       "      <td>6</td>\n",
       "      <td>0</td>\n",
       "      <td>brahms/op39</td>\n",
       "      <td>op39-02.krn</td>\n",
       "      <td>3j4FRAKjO93gupOyzvLjWM</td>\n",
       "    </tr>\n",
       "    <tr>\n",
       "      <td>7</td>\n",
       "      <td>1</td>\n",
       "      <td>buxtehude/op1</td>\n",
       "      <td>op1-3-1.krn</td>\n",
       "      <td>3xBWKAOczzfaLalXRzxntl</td>\n",
       "    </tr>\n",
       "    <tr>\n",
       "      <td>8</td>\n",
       "      <td>1</td>\n",
       "      <td>byrd</td>\n",
       "      <td>aveverum.krn</td>\n",
       "      <td>7J6b58JOnf4RGGqJmxq0bD</td>\n",
       "    </tr>\n",
       "    <tr>\n",
       "      <td>9</td>\n",
       "      <td>1</td>\n",
       "      <td>chopin/scherzo</td>\n",
       "      <td>scherzo2.krn</td>\n",
       "      <td>6OwavBgVS1N4lAXZ2zKUfc</td>\n",
       "    </tr>\n",
       "    <tr>\n",
       "      <td>10</td>\n",
       "      <td>1</td>\n",
       "      <td>clementi/op36</td>\n",
       "      <td>sonatina-36-3-1.krn</td>\n",
       "      <td>5BdFatSoQfW6ttolc2vMcw</td>\n",
       "    </tr>\n",
       "    <tr>\n",
       "      <td>11</td>\n",
       "      <td>1</td>\n",
       "      <td>dufay</td>\n",
       "      <td>omnes_amici.krn</td>\n",
       "      <td>7iQdTFJtemOPPiokQXyh2L</td>\n",
       "    </tr>\n",
       "    <tr>\n",
       "      <td>12</td>\n",
       "      <td>1</td>\n",
       "      <td>dunstable</td>\n",
       "      <td>veni.krn</td>\n",
       "      <td>30UZB3neHQYL9nzCTBX33b</td>\n",
       "    </tr>\n",
       "    <tr>\n",
       "      <td>13</td>\n",
       "      <td>1</td>\n",
       "      <td>faure</td>\n",
       "      <td>apres.krn</td>\n",
       "      <td>4PFahcJg4FDaRRxzKR3fYD</td>\n",
       "    </tr>\n",
       "    <tr>\n",
       "      <td>14</td>\n",
       "      <td>1</td>\n",
       "      <td>flecha</td>\n",
       "      <td>bomba.krn</td>\n",
       "      <td>3xDjFDrTbpR5XqgX2L82fs</td>\n",
       "    </tr>\n",
       "  </tbody>\n",
       "</table>\n",
       "</div>"
      ],
      "text/plain": [
       "    include                  folder                 file  \\\n",
       "0         1                    adam          fimaris.krn   \n",
       "1         0              alkan/op38            02-fa.krn   \n",
       "2         1             bach/violin       partita2-1.krn   \n",
       "3         0           bachcpe/vol01         Wq117-37.krn   \n",
       "4         1  beethoven/piano/sonata       sonata08-2.krn   \n",
       "5         1               bononcini      perlagloria.krn   \n",
       "6         0             brahms/op39          op39-02.krn   \n",
       "7         1           buxtehude/op1          op1-3-1.krn   \n",
       "8         1                    byrd         aveverum.krn   \n",
       "9         1          chopin/scherzo         scherzo2.krn   \n",
       "10        1           clementi/op36  sonatina-36-3-1.krn   \n",
       "11        1                   dufay      omnes_amici.krn   \n",
       "12        1               dunstable             veni.krn   \n",
       "13        1                   faure            apres.krn   \n",
       "14        1                  flecha            bomba.krn   \n",
       "\n",
       "                 spotifyID  \n",
       "0   0XKQIVQ97pPTJg2uDEivD4  \n",
       "1   3jS5RqvjbgnThgzu9iqDD8  \n",
       "2   2shAgoNd95hE6pAjAxxor7  \n",
       "3   0LSMmwJL5Nym0L7Vxt2FeH  \n",
       "4   4l5zWNPyET6PqBhxQEyKgt  \n",
       "5   2PhaOWw5VeChQCJcDBXpfD  \n",
       "6   3j4FRAKjO93gupOyzvLjWM  \n",
       "7   3xBWKAOczzfaLalXRzxntl  \n",
       "8   7J6b58JOnf4RGGqJmxq0bD  \n",
       "9   6OwavBgVS1N4lAXZ2zKUfc  \n",
       "10  5BdFatSoQfW6ttolc2vMcw  \n",
       "11  7iQdTFJtemOPPiokQXyh2L  \n",
       "12  30UZB3neHQYL9nzCTBX33b  \n",
       "13  4PFahcJg4FDaRRxzKR3fYD  \n",
       "14  3xDjFDrTbpR5XqgX2L82fs  "
      ]
     },
     "execution_count": 5,
     "metadata": {},
     "output_type": "execute_result"
    }
   ],
   "source": [
    "workList"
   ]
  },
  {
   "cell_type": "markdown",
   "metadata": {},
   "source": [
    "Note: excluding some pieces because they are generating errors calculating the instrument families\n",
    "(no instruments encoded in humdrum)"
   ]
  },
  {
   "cell_type": "code",
   "execution_count": 7,
   "metadata": {},
   "outputs": [
    {
     "name": "stdout",
     "output_type": "stream",
     "text": [
      "data/classical/adam/fimaris.krn\n"
     ]
    },
    {
     "ename": "NameError",
     "evalue": "name 'spotifyID' is not defined",
     "output_type": "error",
     "traceback": [
      "\u001b[1;31m---------------------------------------------------------------------------\u001b[0m",
      "\u001b[1;31mNameError\u001b[0m                                 Traceback (most recent call last)",
      "\u001b[1;32m<ipython-input-7-791e9fe5fa48>\u001b[0m in \u001b[0;36m<module>\u001b[1;34m\u001b[0m\n\u001b[0;32m     41\u001b[0m         \u001b[1;31m#TBD: vocals\u001b[0m\u001b[1;33m\u001b[0m\u001b[1;33m\u001b[0m\u001b[1;33m\u001b[0m\u001b[0m\n\u001b[0;32m     42\u001b[0m         featureList.append([composer,title,date, avgNumVoices, keyType, sharpsOrFlats, tempo,\n\u001b[1;32m---> 43\u001b[1;33m                             timeSig, noteDensity, stringsP, keysP, woodwindsP, percussionP, spotifyID])\n\u001b[0m",
      "\u001b[1;31mNameError\u001b[0m: name 'spotifyID' is not defined"
     ]
    }
   ],
   "source": [
    "#calculate features and get metadata for each piece\n",
    "featureList=[]\n",
    "for index, row in workList.iterrows():\n",
    "    if row['include']==1:\n",
    "        fp='data/classical/'+row['folder']+'/' + row['file']\n",
    "        print(fp)\n",
    "        s = converter.parse(fp)\n",
    "        composer=s.metadata.composer\n",
    "        title=s.metadata.title\n",
    "        date=s.metadata.date\n",
    "        spotifyID=row['spotifyID']\n",
    "\n",
    "        #average number of independent voices sounding simultaneously\n",
    "        avgNumVoices = features.jSymbolic.AverageNumberOfIndependentVoicesFeature(s).extract().vector[0]\n",
    "\n",
    "        #key and type (e.g. C major)\n",
    "        key = s.analyze('key')\n",
    "        \n",
    "        #key type\n",
    "        keyType=key.type\n",
    "        \n",
    "        #number of sharps or flats (flats will be negative, sharps positive)\n",
    "        sharpsOrFlats=abs(key.sharps)\n",
    "\n",
    "        #key signature (e.g. 1 sharp)\n",
    "        #keySignature= s.getElementsByClass(stream.Part)[0].getElementsByClass(stream.Measure)[0].getElementsByClass(stream.key.KeySignature)[0]\n",
    "        \n",
    "        #initial tempo\n",
    "        tempo = features.jSymbolic.InitialTempoFeature(s).extract().vector[0]\n",
    "        \n",
    "        #initial time signature\n",
    "        timeSig = features.jSymbolic.InitialTimeSignatureFeature(s).extract().vector\n",
    "        \n",
    "        #note density (average number of notes per second, taking local tempo into account)\n",
    "        noteDensity = features.jSymbolic.NoteDensityFeature(s).extract().vector[0]\n",
    "\n",
    "        #proportions of note onsets from different instrument families\n",
    "        stringsP = features.jSymbolic.OrchestralStringsFractionFeature(s).extract().vector[0]\n",
    "        keysP = features.jSymbolic.StringKeyboardFractionFeature(s).extract().vector[0]\n",
    "        woodwindsP = features.jSymbolic.WoodwindsFractionFeature(s).extract().vector[0]\n",
    "        percussionP = features.jSymbolic.PercussionPrevalenceFeature(s).extract().vector[0]\n",
    "        #TBD: vocals\n",
    "        featureList.append([composer,title,date, avgNumVoices, keyType, sharpsOrFlats, tempo,\n",
    "                            timeSig, noteDensity, stringsP, keysP, woodwindsP, percussionP, spotifyID])"
   ]
  },
  {
   "cell_type": "code",
   "execution_count": 25,
   "metadata": {},
   "outputs": [],
   "source": [
    "#create dataframe, export to csv and JSON\n",
    "df=pd.DataFrame(featureList, columns=['composer','title', 'date','avgNumVoices','keyTypes','sharpsOrFlats', \n",
    "                                      'tempo','timeSig','noteDensity','stringsP','keysP','woodwindsP','percussionP',\n",
    "                                      'spotifyID'])\n",
    "df.to_csv('features.csv',index=False)\n",
    "df.to_json('features.json',orient='records')"
   ]
  },
  {
   "cell_type": "code",
   "execution_count": 45,
   "metadata": {},
   "outputs": [],
   "source": [
    "#filelist=[]\n",
    "#i=1\n",
    "#for (dirpath, dirnames, filenames) in os.walk(path):\n",
    "#    for file in filenames:\n",
    "#            name, ext = os.path.splitext(file)\n",
    "#            if (ext == '.krn'):            \n",
    "#                #filelist += [os.path.join(dirpath, file)]\n",
    "#                i+=1\n",
    "#                #select every 100th file for now (TBD: pick 1 at random per composer)\n",
    "#                if (np.mod(i,100)==0 & i<600):\n",
    "#                    filelist += [[i,dirpath,file]]\n",
    "#                    s = converter.parse(dirpath + \"/\" + file)                  "
   ]
  },
  {
   "cell_type": "code",
   "execution_count": null,
   "metadata": {},
   "outputs": [],
   "source": []
  }
 ],
 "metadata": {
  "kernelspec": {
   "display_name": "Python 3",
   "language": "python",
   "name": "python3"
  },
  "language_info": {
   "codemirror_mode": {
    "name": "ipython",
    "version": 3
   },
   "file_extension": ".py",
   "mimetype": "text/x-python",
   "name": "python",
   "nbconvert_exporter": "python",
   "pygments_lexer": "ipython3",
   "version": "3.7.4"
  }
 },
 "nbformat": 4,
 "nbformat_minor": 2
}
